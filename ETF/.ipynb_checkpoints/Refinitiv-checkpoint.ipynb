{
 "cells": [
  {
   "cell_type": "code",
   "execution_count": 1,
   "id": "73b73039",
   "metadata": {},
   "outputs": [
    {
     "name": "stdout",
     "output_type": "stream",
     "text": [
      "Requirement already satisfied: refinitiv.data in c:\\users\\paolo\\anaconda3\\lib\\site-packages (1.4.0)\n",
      "Requirement already satisfied: appdirs<=1.4.4,>=1.4.3 in c:\\users\\paolo\\anaconda3\\lib\\site-packages (from refinitiv.data) (1.4.4)\n",
      "Requirement already satisfied: pyee<=9.0.4 in c:\\users\\paolo\\anaconda3\\lib\\site-packages (from refinitiv.data) (9.0.4)\n",
      "Requirement already satisfied: httpx<=0.24.1,>=0.18 in c:\\users\\paolo\\anaconda3\\lib\\site-packages (from refinitiv.data) (0.24.1)\n",
      "Requirement already satisfied: httpcore<=0.15.0 in c:\\users\\paolo\\anaconda3\\lib\\site-packages (from refinitiv.data) (0.15.0)\n",
      "Requirement already satisfied: PyMySQL>=1.0.2 in c:\\users\\paolo\\anaconda3\\lib\\site-packages (from refinitiv.data) (1.1.0)\n",
      "Requirement already satisfied: numpy<=1.23.4,>=1.11.0 in c:\\users\\paolo\\anaconda3\\lib\\site-packages (from refinitiv.data) (1.23.4)\n",
      "Requirement already satisfied: pandas<=2.0.2,>=1.3.5 in c:\\users\\paolo\\anaconda3\\lib\\site-packages (from refinitiv.data) (1.5.3)\n",
      "Requirement already satisfied: python-dateutil<=2.8.2 in c:\\users\\paolo\\anaconda3\\lib\\site-packages (from refinitiv.data) (2.8.2)\n",
      "Requirement already satisfied: requests<=2.28.1 in c:\\users\\paolo\\anaconda3\\lib\\site-packages (from refinitiv.data) (2.28.1)\n",
      "Collecting scipy<=1.9.3 (from refinitiv.data)\n",
      "  Using cached scipy-1.9.3-cp310-cp310-win_amd64.whl (40.1 MB)\n",
      "Requirement already satisfied: six<=1.16.0 in c:\\users\\paolo\\anaconda3\\lib\\site-packages (from refinitiv.data) (1.16.0)\n",
      "Requirement already satisfied: tenacity<8.1.0,>=8.0 in c:\\users\\paolo\\anaconda3\\lib\\site-packages (from refinitiv.data) (8.0.1)\n",
      "Requirement already satisfied: watchdog<=2.1.9,>=0.10.2 in c:\\users\\paolo\\anaconda3\\lib\\site-packages (from refinitiv.data) (2.1.6)\n",
      "Requirement already satisfied: websocket-client!=1.2.2,<=1.5.1,>=0.58.0 in c:\\users\\paolo\\anaconda3\\lib\\site-packages (from refinitiv.data) (0.58.0)\n",
      "Requirement already satisfied: pyhumps<=3.8.0,~=3.0.2 in c:\\users\\paolo\\anaconda3\\lib\\site-packages (from refinitiv.data) (3.0.2)\n",
      "Requirement already satisfied: jinja2<4.0.0,>=3.0.3 in c:\\users\\paolo\\anaconda3\\lib\\site-packages (from refinitiv.data) (3.1.2)\n",
      "Requirement already satisfied: simplejson~=3.15 in c:\\users\\paolo\\anaconda3\\lib\\site-packages (from refinitiv.data) (3.19.1)\n",
      "Requirement already satisfied: h11<0.13,>=0.11 in c:\\users\\paolo\\anaconda3\\lib\\site-packages (from httpcore<=0.15.0->refinitiv.data) (0.12.0)\n",
      "Requirement already satisfied: sniffio==1.* in c:\\users\\paolo\\anaconda3\\lib\\site-packages (from httpcore<=0.15.0->refinitiv.data) (1.2.0)\n",
      "Requirement already satisfied: anyio==3.* in c:\\users\\paolo\\anaconda3\\lib\\site-packages (from httpcore<=0.15.0->refinitiv.data) (3.5.0)\n",
      "Requirement already satisfied: certifi in c:\\users\\paolo\\anaconda3\\lib\\site-packages (from httpcore<=0.15.0->refinitiv.data) (2023.7.22)\n",
      "Requirement already satisfied: idna>=2.8 in c:\\users\\paolo\\anaconda3\\lib\\site-packages (from anyio==3.*->httpcore<=0.15.0->refinitiv.data) (3.4)\n",
      "Requirement already satisfied: MarkupSafe>=2.0 in c:\\users\\paolo\\anaconda3\\lib\\site-packages (from jinja2<4.0.0,>=3.0.3->refinitiv.data) (2.1.1)\n",
      "Requirement already satisfied: pytz>=2020.1 in c:\\users\\paolo\\anaconda3\\lib\\site-packages (from pandas<=2.0.2,>=1.3.5->refinitiv.data) (2022.7)\n",
      "Requirement already satisfied: typing-extensions in c:\\users\\paolo\\anaconda3\\lib\\site-packages (from pyee<=9.0.4->refinitiv.data) (4.4.0)\n",
      "Requirement already satisfied: charset-normalizer<3,>=2 in c:\\users\\paolo\\anaconda3\\lib\\site-packages (from requests<=2.28.1->refinitiv.data) (2.0.4)\n",
      "Requirement already satisfied: urllib3<1.27,>=1.21.1 in c:\\users\\paolo\\anaconda3\\lib\\site-packages (from requests<=2.28.1->refinitiv.data) (1.26.14)\n",
      "Installing collected packages: scipy\n",
      "  Attempting uninstall: scipy\n",
      "    Found existing installation: scipy 1.10.1\n",
      "    Uninstalling scipy-1.10.1:\n",
      "      Successfully uninstalled scipy-1.10.1\n",
      "Successfully installed scipy-1.9.3\n"
     ]
    },
    {
     "name": "stderr",
     "output_type": "stream",
     "text": [
      "ERROR: pip's dependency resolver does not currently take into account all the packages that are installed. This behaviour is the source of the following dependency conflicts.\n",
      "gensim 4.3.0 requires FuzzyTM>=0.4.0, which is not installed.\n"
     ]
    }
   ],
   "source": [
    "!pip install refinitiv.data"
   ]
  },
  {
   "cell_type": "code",
   "execution_count": 1,
   "id": "cf520afe",
   "metadata": {},
   "outputs": [],
   "source": [
    "import pandas as pd\n",
    "import numpy as np\n",
    "import os\n",
    "import refinitiv.data as rd\n",
    "from refinitiv.data.content import historical_pricing\n",
    "import logging.config\n",
    "import datetime\n",
    "import json"
   ]
  },
  {
   "cell_type": "code",
   "execution_count": 2,
   "id": "f0515a7d",
   "metadata": {},
   "outputs": [],
   "source": [
    "APP_KEY                     = 'aace7028dd2744ab85f73cfceefa2350592ac03b'\n",
    "RDP_LOGIN                   = '*********************'\n",
    "RDP_PASSWORD                = \"***********\"\n",
    "\n",
    "# praticamente la chiave da sola non basta. O installi anche Eikon Desktop e fai accesso lì, allora puoi usare solo la APIKEY, altrimenti metti la password (e speriamo che basti!)\n",
    "\n",
    "# REALTIME_DISTRIBUTION_SERVICE_HOST      = 'THE_HOST:PORT_OF_YOUR_RTDS_HOST'  \n",
    "# REALTIME_DISTRIBUTION_SERVICE_USER_NAME = 'YOUR_USER_NAME_ON_YOUR_RTDS_HOST' "
   ]
  },
  {
   "cell_type": "markdown",
   "id": "173fcaad",
   "metadata": {},
   "source": [
    "## Open the default session\n",
    "\n",
    "To open the default session ensure you have \n",
    "* a '*refinitiv-data.config.json*' in the ***Configuration*** directory \n",
    "* **populated the file with your credentials**\n",
    "* and specified a 'default' session in the config file    \n",
    "\n",
    "**Note**: To request Historical Pricing data you must be using an RDP Platform (Cloud) session or a Desktop Session(Eikon/Workspace).   \n",
    "It is not currently possible to request historical data from a deployed Session\n",
    "\n",
    "Questa pappardella è solo per dirmi che in pratica bisogna installare il programma, fuck!\n"
   ]
  },
  {
   "cell_type": "markdown",
   "id": "31355a62",
   "metadata": {},
   "source": [
    "### Historical Price Events\n",
    "\n",
    "NOTE: We have not specified any start or end times, so the request defaults to the 20 most recent events"
   ]
  },
  {
   "cell_type": "code",
   "execution_count": 3,
   "id": "cd64781c",
   "metadata": {
    "scrolled": true
   },
   "outputs": [
    {
     "data": {
      "text/plain": [
       "<refinitiv.data.session.Definition object at 0x1adffe55030 {name='workspace'}>"
      ]
     },
     "execution_count": 3,
     "metadata": {},
     "output_type": "execute_result"
    }
   ],
   "source": [
    "# rd.open_session()\n",
    "rd.open_session(app_key = APP_KEY)"
   ]
  },
  {
   "cell_type": "code",
   "execution_count": 4,
   "id": "3ca56826",
   "metadata": {},
   "outputs": [
    {
     "data": {
      "text/html": [
       "<div>\n",
       "<style scoped>\n",
       "    .dataframe tbody tr th:only-of-type {\n",
       "        vertical-align: middle;\n",
       "    }\n",
       "\n",
       "    .dataframe tbody tr th {\n",
       "        vertical-align: top;\n",
       "    }\n",
       "\n",
       "    .dataframe thead th {\n",
       "        text-align: right;\n",
       "    }\n",
       "</style>\n",
       "<table border=\"1\" class=\"dataframe\">\n",
       "  <thead>\n",
       "    <tr style=\"text-align: right;\">\n",
       "      <th></th>\n",
       "      <th>Name</th>\n",
       "      <th>Presente</th>\n",
       "      <th>ISIN</th>\n",
       "      <th>RIC</th>\n",
       "      <th>Lipper Classification Scheme</th>\n",
       "      <th>Instrument Type</th>\n",
       "      <th>Domicile</th>\n",
       "      <th>Currency</th>\n",
       "      <th>Exchange iNAV</th>\n",
       "    </tr>\n",
       "  </thead>\n",
       "  <tbody>\n",
       "    <tr>\n",
       "      <th>0</th>\n",
       "      <td>Alerian Midstream Energy Dividend UCITS ETF Dis</td>\n",
       "      <td>True</td>\n",
       "      <td>IE00BKPTXQ89</td>\n",
       "      <td>MMLP.MI</td>\n",
       "      <td>Equity Theme - Infrastructure</td>\n",
       "      <td>Equity ETF</td>\n",
       "      <td>Ireland</td>\n",
       "      <td>Euro</td>\n",
       "      <td>NaN</td>\n",
       "    </tr>\n",
       "    <tr>\n",
       "      <th>1</th>\n",
       "      <td>AM MSCI EUR IG SRI SusExFossil CrpBd UCITS ETF</td>\n",
       "      <td>True</td>\n",
       "      <td>IE000NPK2VI6</td>\n",
       "      <td>FAMSFFA.MI</td>\n",
       "      <td>Bond EUR Corporates</td>\n",
       "      <td>Exchange-Traded Fund</td>\n",
       "      <td>Ireland</td>\n",
       "      <td>Euro</td>\n",
       "      <td>NaN</td>\n",
       "    </tr>\n",
       "    <tr>\n",
       "      <th>2</th>\n",
       "      <td>AM MSCI EUR IG SRI SusExFossil1-3yCrpBdUCITSETF</td>\n",
       "      <td>True</td>\n",
       "      <td>IE000W6ZFH20</td>\n",
       "      <td>FAMSF3A.MI</td>\n",
       "      <td>Bond EUR Corporates Short Term</td>\n",
       "      <td>Exchange-Traded Fund</td>\n",
       "      <td>Ireland</td>\n",
       "      <td>Euro</td>\n",
       "      <td>NaN</td>\n",
       "    </tr>\n",
       "    <tr>\n",
       "      <th>3</th>\n",
       "      <td>Amndi Blmbrg Eqlwght ComdtexAgrcl UCITSETF DHE...</td>\n",
       "      <td>True</td>\n",
       "      <td>LU1900069219</td>\n",
       "      <td>COMH.MI</td>\n",
       "      <td>Commodity Blended</td>\n",
       "      <td>Commodity ETF</td>\n",
       "      <td>Luxembourg</td>\n",
       "      <td>Euro</td>\n",
       "      <td>NaN</td>\n",
       "    </tr>\n",
       "    <tr>\n",
       "      <th>4</th>\n",
       "      <td>Amundi Blbrg Equlwght Commdt ex-Agricl UCITS E...</td>\n",
       "      <td>True</td>\n",
       "      <td>LU1829218749</td>\n",
       "      <td>COMO.MI</td>\n",
       "      <td>Commodity Blended</td>\n",
       "      <td>Commodity ETF</td>\n",
       "      <td>Luxembourg</td>\n",
       "      <td>Euro</td>\n",
       "      <td>INCRBINAV.PA^F23</td>\n",
       "    </tr>\n",
       "    <tr>\n",
       "      <th>...</th>\n",
       "      <td>...</td>\n",
       "      <td>...</td>\n",
       "      <td>...</td>\n",
       "      <td>...</td>\n",
       "      <td>...</td>\n",
       "      <td>...</td>\n",
       "      <td>...</td>\n",
       "      <td>...</td>\n",
       "      <td>...</td>\n",
       "    </tr>\n",
       "    <tr>\n",
       "      <th>1816</th>\n",
       "      <td>Xtrackers USD Corporate Bond UCITS ETF 1D</td>\n",
       "      <td>True</td>\n",
       "      <td>IE00BZ036H21</td>\n",
       "      <td>XDGU.MI</td>\n",
       "      <td>Bond USD Corporates</td>\n",
       "      <td>Bond ETF</td>\n",
       "      <td>Ireland</td>\n",
       "      <td>Euro</td>\n",
       "      <td>NaN</td>\n",
       "    </tr>\n",
       "    <tr>\n",
       "      <th>1817</th>\n",
       "      <td>Xtrackers USD Corporate Bond UCITS ETF 2D EUR Hgd</td>\n",
       "      <td>True</td>\n",
       "      <td>IE00BZ036J45</td>\n",
       "      <td>XDGE.MI</td>\n",
       "      <td>Bond USD Corporates</td>\n",
       "      <td>Bond ETF</td>\n",
       "      <td>Ireland</td>\n",
       "      <td>Euro</td>\n",
       "      <td>XDGEINAV=SOLA</td>\n",
       "    </tr>\n",
       "    <tr>\n",
       "      <th>1818</th>\n",
       "      <td>Xtrackers USD Corporate Green Bond UCITS ETF 2C</td>\n",
       "      <td>True</td>\n",
       "      <td>IE0003W9O921</td>\n",
       "      <td>XGBU.MI</td>\n",
       "      <td>NaN</td>\n",
       "      <td>Bond ETF</td>\n",
       "      <td>Ireland</td>\n",
       "      <td>Euro</td>\n",
       "      <td>NaN</td>\n",
       "    </tr>\n",
       "    <tr>\n",
       "      <th>1819</th>\n",
       "      <td>Xtrackers USD High Yld Corporate Bond UCITS ET...</td>\n",
       "      <td>True</td>\n",
       "      <td>IE00BDR5HM97</td>\n",
       "      <td>XUHY.MI</td>\n",
       "      <td>Bond USD High Yield</td>\n",
       "      <td>Bond ETF</td>\n",
       "      <td>Ireland</td>\n",
       "      <td>Euro</td>\n",
       "      <td>NaN</td>\n",
       "    </tr>\n",
       "    <tr>\n",
       "      <th>1820</th>\n",
       "      <td>Xtrackers Wld Net Zero Pway Par Algnd UCITS ET...</td>\n",
       "      <td>True</td>\n",
       "      <td>IE000UZCJS58</td>\n",
       "      <td>XNZW.MI</td>\n",
       "      <td>Equity Global Sm&amp;Mid Cap</td>\n",
       "      <td>Equity ETF</td>\n",
       "      <td>Ireland</td>\n",
       "      <td>Euro</td>\n",
       "      <td>NaN</td>\n",
       "    </tr>\n",
       "  </tbody>\n",
       "</table>\n",
       "<p>1821 rows × 9 columns</p>\n",
       "</div>"
      ],
      "text/plain": [
       "                                                   Name  Presente  \\\n",
       "0       Alerian Midstream Energy Dividend UCITS ETF Dis      True   \n",
       "1        AM MSCI EUR IG SRI SusExFossil CrpBd UCITS ETF      True   \n",
       "2       AM MSCI EUR IG SRI SusExFossil1-3yCrpBdUCITSETF      True   \n",
       "3     Amndi Blmbrg Eqlwght ComdtexAgrcl UCITSETF DHE...      True   \n",
       "4     Amundi Blbrg Equlwght Commdt ex-Agricl UCITS E...      True   \n",
       "...                                                 ...       ...   \n",
       "1816          Xtrackers USD Corporate Bond UCITS ETF 1D      True   \n",
       "1817  Xtrackers USD Corporate Bond UCITS ETF 2D EUR Hgd      True   \n",
       "1818    Xtrackers USD Corporate Green Bond UCITS ETF 2C      True   \n",
       "1819  Xtrackers USD High Yld Corporate Bond UCITS ET...      True   \n",
       "1820  Xtrackers Wld Net Zero Pway Par Algnd UCITS ET...      True   \n",
       "\n",
       "              ISIN         RIC    Lipper Classification Scheme  \\\n",
       "0     IE00BKPTXQ89     MMLP.MI   Equity Theme - Infrastructure   \n",
       "1     IE000NPK2VI6  FAMSFFA.MI             Bond EUR Corporates   \n",
       "2     IE000W6ZFH20  FAMSF3A.MI  Bond EUR Corporates Short Term   \n",
       "3     LU1900069219     COMH.MI               Commodity Blended   \n",
       "4     LU1829218749     COMO.MI               Commodity Blended   \n",
       "...            ...         ...                             ...   \n",
       "1816  IE00BZ036H21     XDGU.MI             Bond USD Corporates   \n",
       "1817  IE00BZ036J45     XDGE.MI             Bond USD Corporates   \n",
       "1818  IE0003W9O921     XGBU.MI                             NaN   \n",
       "1819  IE00BDR5HM97     XUHY.MI             Bond USD High Yield   \n",
       "1820  IE000UZCJS58     XNZW.MI        Equity Global Sm&Mid Cap   \n",
       "\n",
       "           Instrument Type    Domicile Currency     Exchange iNAV  \n",
       "0               Equity ETF     Ireland     Euro               NaN  \n",
       "1     Exchange-Traded Fund     Ireland     Euro               NaN  \n",
       "2     Exchange-Traded Fund     Ireland     Euro               NaN  \n",
       "3            Commodity ETF  Luxembourg     Euro               NaN  \n",
       "4            Commodity ETF  Luxembourg     Euro  INCRBINAV.PA^F23  \n",
       "...                    ...         ...      ...               ...  \n",
       "1816              Bond ETF     Ireland     Euro               NaN  \n",
       "1817              Bond ETF     Ireland     Euro     XDGEINAV=SOLA  \n",
       "1818              Bond ETF     Ireland     Euro               NaN  \n",
       "1819              Bond ETF     Ireland     Euro               NaN  \n",
       "1820            Equity ETF     Ireland     Euro               NaN  \n",
       "\n",
       "[1821 rows x 9 columns]"
      ]
     },
     "execution_count": 4,
     "metadata": {},
     "output_type": "execute_result"
    }
   ],
   "source": [
    "etf = pd.read_excel(\"elenco ETF.xlsx\")\n",
    "etf"
   ]
  },
  {
   "cell_type": "code",
   "execution_count": 7,
   "id": "503b7a44",
   "metadata": {
    "scrolled": false
   },
   "outputs": [
    {
     "data": {
      "text/html": [
       "<div>\n",
       "<style scoped>\n",
       "    .dataframe tbody tr th:only-of-type {\n",
       "        vertical-align: middle;\n",
       "    }\n",
       "\n",
       "    .dataframe tbody tr th {\n",
       "        vertical-align: top;\n",
       "    }\n",
       "\n",
       "    .dataframe thead th {\n",
       "        text-align: right;\n",
       "    }\n",
       "</style>\n",
       "<table border=\"1\" class=\"dataframe\">\n",
       "  <thead>\n",
       "    <tr style=\"text-align: right;\">\n",
       "      <th>VWCE.MI</th>\n",
       "      <th>OPEN_PRC</th>\n",
       "      <th>HIGH_1</th>\n",
       "      <th>LOW_1</th>\n",
       "      <th>TRDPRC_1</th>\n",
       "      <th>TRNOVR_UNS</th>\n",
       "    </tr>\n",
       "    <tr>\n",
       "      <th>Date</th>\n",
       "      <th></th>\n",
       "      <th></th>\n",
       "      <th></th>\n",
       "      <th></th>\n",
       "      <th></th>\n",
       "    </tr>\n",
       "  </thead>\n",
       "  <tbody>\n",
       "    <tr>\n",
       "      <th>2020-01-14</th>\n",
       "      <td>78.75</td>\n",
       "      <td>78.75</td>\n",
       "      <td>78.75</td>\n",
       "      <td>78.75</td>\n",
       "      <td>78.75</td>\n",
       "    </tr>\n",
       "    <tr>\n",
       "      <th>2020-01-15</th>\n",
       "      <td>78.6</td>\n",
       "      <td>78.68</td>\n",
       "      <td>78.5</td>\n",
       "      <td>78.61</td>\n",
       "      <td>15800.78</td>\n",
       "    </tr>\n",
       "    <tr>\n",
       "      <th>2020-01-16</th>\n",
       "      <td>78.9</td>\n",
       "      <td>78.9</td>\n",
       "      <td>78.78</td>\n",
       "      <td>78.78</td>\n",
       "      <td>56487.06</td>\n",
       "    </tr>\n",
       "    <tr>\n",
       "      <th>2020-01-17</th>\n",
       "      <td>79.57</td>\n",
       "      <td>79.66</td>\n",
       "      <td>79.57</td>\n",
       "      <td>79.66</td>\n",
       "      <td>4059.06</td>\n",
       "    </tr>\n",
       "    <tr>\n",
       "      <th>2020-01-20</th>\n",
       "      <td>79.6</td>\n",
       "      <td>79.6</td>\n",
       "      <td>79.6</td>\n",
       "      <td>79.6</td>\n",
       "      <td>1990.0</td>\n",
       "    </tr>\n",
       "    <tr>\n",
       "      <th>...</th>\n",
       "      <td>...</td>\n",
       "      <td>...</td>\n",
       "      <td>...</td>\n",
       "      <td>...</td>\n",
       "      <td>...</td>\n",
       "    </tr>\n",
       "    <tr>\n",
       "      <th>2023-11-06</th>\n",
       "      <td>100.72</td>\n",
       "      <td>100.78</td>\n",
       "      <td>100.5</td>\n",
       "      <td>100.52</td>\n",
       "      <td>947429.26</td>\n",
       "    </tr>\n",
       "    <tr>\n",
       "      <th>2023-11-07</th>\n",
       "      <td>100.42</td>\n",
       "      <td>101.19</td>\n",
       "      <td>100.41</td>\n",
       "      <td>101.09</td>\n",
       "      <td>1006945.53</td>\n",
       "    </tr>\n",
       "    <tr>\n",
       "      <th>2023-11-08</th>\n",
       "      <td>100.79</td>\n",
       "      <td>101.21</td>\n",
       "      <td>100.67</td>\n",
       "      <td>100.68</td>\n",
       "      <td>1087098.62</td>\n",
       "    </tr>\n",
       "    <tr>\n",
       "      <th>2023-11-09</th>\n",
       "      <td>100.9</td>\n",
       "      <td>101.3</td>\n",
       "      <td>100.78</td>\n",
       "      <td>100.98</td>\n",
       "      <td>390209.24</td>\n",
       "    </tr>\n",
       "    <tr>\n",
       "      <th>2023-11-10</th>\n",
       "      <td>100.69</td>\n",
       "      <td>100.87</td>\n",
       "      <td>100.2</td>\n",
       "      <td>100.87</td>\n",
       "      <td>1637105.26</td>\n",
       "    </tr>\n",
       "  </tbody>\n",
       "</table>\n",
       "<p>977 rows × 5 columns</p>\n",
       "</div>"
      ],
      "text/plain": [
       "VWCE.MI     OPEN_PRC  HIGH_1   LOW_1  TRDPRC_1  TRNOVR_UNS\n",
       "Date                                                      \n",
       "2020-01-14     78.75   78.75   78.75     78.75       78.75\n",
       "2020-01-15      78.6   78.68    78.5     78.61    15800.78\n",
       "2020-01-16      78.9    78.9   78.78     78.78    56487.06\n",
       "2020-01-17     79.57   79.66   79.57     79.66     4059.06\n",
       "2020-01-20      79.6    79.6    79.6      79.6      1990.0\n",
       "...              ...     ...     ...       ...         ...\n",
       "2023-11-06    100.72  100.78   100.5    100.52   947429.26\n",
       "2023-11-07    100.42  101.19  100.41    101.09  1006945.53\n",
       "2023-11-08    100.79  101.21  100.67    100.68  1087098.62\n",
       "2023-11-09     100.9   101.3  100.78    100.98   390209.24\n",
       "2023-11-10    100.69  100.87   100.2    100.87  1637105.26\n",
       "\n",
       "[977 rows x 5 columns]"
      ]
     },
     "execution_count": 7,
     "metadata": {},
     "output_type": "execute_result"
    }
   ],
   "source": [
    "response = historical_pricing.summaries.Definition(\n",
    "   \"VWCE.MI\",\n",
    "#   [\"VWCE.MI\", \"EQQQ.MI\"],\n",
    "    count=30000,\n",
    "    interval=historical_pricing.Intervals.DAILY,\n",
    "    # fields = [\"OPEN_PRC\",\"BID\",\"ASK\",\"HIGH_1\", \"LOW_1\", \"TRDPRC_1\",\"TRNOVR_UNS\"]\n",
    "#    fields = \"TRDPRC_1\",\n",
    "     fields = [\"OPEN_PRC\",\"HIGH_1\", \"LOW_1\", \"TRDPRC_1\",\"TRNOVR_UNS\"]\n",
    "    ).get_data()\n",
    "# Extract in DataFrame format\n",
    "response.data.df"
   ]
  },
  {
   "cell_type": "code",
   "execution_count": 9,
   "id": "4d3b98b9",
   "metadata": {
    "scrolled": true
   },
   "outputs": [
    {
     "name": "stdout",
     "output_type": "stream",
     "text": [
      "Error code : 1  Message : No data to return, please check errors: ERROR: No successful response.\n",
      "(TS.Interday.UserRequestError.70005, The universe is not found)\n",
      "Error code : 1  Message : No data to return, please check errors: ERROR: No successful response.\n",
      "(TS.Interday.UserRequestError.70005, The universe is not found)\n",
      "Error code : 1  Message : No data to return, please check errors: ERROR: No successful response.\n",
      "(TS.Interday.UserRequestError.70005, The universe is not found)\n",
      "Error code : 1  Message : No data to return, please check errors: ERROR: No successful response.\n",
      "(TS.Interday.UserRequestError.70005, The universe is not found)\n",
      "Error code : 1  Message : No data to return, please check errors: ERROR: No successful response.\n",
      "(TS.Interday.UserRequestError.70005, The universe is not found)\n",
      "Error code : 1  Message : No data to return, please check errors: ERROR: No successful response.\n",
      "(TS.Interday.UserRequestError.70005, The universe is not found)\n",
      "Error code : 1  Message : No data to return, please check errors: ERROR: No successful response.\n",
      "(TS.Interday.UserRequestError.70005, The universe is not found)\n",
      "Error code : 1  Message : No data to return, please check errors: ERROR: No successful response.\n",
      "(TS.Interday.UserRequestError.70005, The universe is not found)\n",
      "Error code : 1  Message : No data to return, please check errors: ERROR: No successful response.\n",
      "(TS.Interday.UserRequestError.70005, The universe is not found)\n",
      "Error code : 1  Message : No data to return, please check errors: ERROR: No successful response.\n",
      "(TS.Interday.UserRequestError.70005, The universe is not found)\n",
      "Error code : 1  Message : No data to return, please check errors: ERROR: No successful response.\n",
      "(TS.Interday.UserRequestError.70005, The universe is not found)\n",
      "Error code : 1  Message : No data to return, please check errors: ERROR: No successful response.\n",
      "(TS.Interday.UserRequestError.70005, The universe is not found)\n",
      "Error code : 1  Message : No data to return, please check errors: ERROR: No successful response.\n",
      "(TS.Interday.UserRequestError.70005, The universe is not found)\n"
     ]
    }
   ],
   "source": [
    "errori = []\n",
    "errori_nomi = []\n",
    "for nome in list(etf.RIC[~etf.Presente]):\n",
    "    try:\n",
    "        response = historical_pricing.summaries.Definition(\n",
    "            #   \"VWCE.MI\",\n",
    "            nome,\n",
    "            count=30000,\n",
    "            interval=historical_pricing.Intervals.DAILY,\n",
    "            # fields = [\"OPEN_PRC\",\"BID\",\"ASK\",\"HIGH_1\", \"LOW_1\", \"TRDPRC_1\",\"TRNOVR_UNS\"]\n",
    "            fields = [\"OPEN_PRC\",\"HIGH_1\", \"LOW_1\", \"TRDPRC_1\",\"TRNOVR_UNS\"]\n",
    "        ).get_data()\n",
    "        response.data.df.to_csv(\"dati\\\\\" + nome + \".csv\",sep=\";\")\n",
    "    except rd.errors.RDError as e:\n",
    "        try:\n",
    "            response = historical_pricing.summaries.Definition(\n",
    "                #   \"VWCE.MI\",\n",
    "                nome.replace(\".MI\",\".PA\"),\n",
    "                count=30000,\n",
    "                interval=historical_pricing.Intervals.DAILY,\n",
    "                # fields = [\"OPEN_PRC\",\"BID\",\"ASK\",\"HIGH_1\", \"LOW_1\", \"TRDPRC_1\",\"TRNOVR_UNS\"]\n",
    "                fields = [\"OPEN_PRC\",\"HIGH_1\", \"LOW_1\", \"TRDPRC_1\",\"TRNOVR_UNS\"]\n",
    "            ).get_data()\n",
    "            response.data.df.to_csv(\"dati\\\\\" + nome + \".csv\",sep=\";\")\n",
    "        except:\n",
    "            print(\"Error code :\", e.code,\" Message :\", e.message)\n",
    "            errori.append((e.code,e.message))\n",
    "            errori_nomi.append(nome)"
   ]
  },
  {
   "cell_type": "code",
   "execution_count": 10,
   "id": "2c86d6c7",
   "metadata": {},
   "outputs": [
    {
     "name": "stdout",
     "output_type": "stream",
     "text": [
      "['MIVO.MI', 'ISAD.MI', 'FMQQ.MI', 'WTCHIN.MI', 'MLPI.MI', 'FLOTH.MI', 'LCUK.MI', 'FLOT.MI', 'OIL1L.MI', 'SGIOIL2L.MI', 'EUCR.MI', 'EXCPA.MI', 'SIL1L.MI']\n"
     ]
    }
   ],
   "source": [
    "print(errori_nomi)"
   ]
  },
  {
   "cell_type": "code",
   "execution_count": 11,
   "id": "7e46380d",
   "metadata": {},
   "outputs": [],
   "source": [
    "pd.Series(errori_nomi).to_csv(\"etf_errati.csv\")"
   ]
  },
  {
   "cell_type": "code",
   "execution_count": 12,
   "id": "0bfaff88",
   "metadata": {},
   "outputs": [],
   "source": [
    "rd.close_session()"
   ]
  },
  {
   "cell_type": "code",
   "execution_count": null,
   "id": "69854adf",
   "metadata": {},
   "outputs": [],
   "source": []
  },
  {
   "cell_type": "code",
   "execution_count": null,
   "id": "661b5777",
   "metadata": {},
   "outputs": [],
   "source": []
  },
  {
   "cell_type": "code",
   "execution_count": null,
   "id": "9b66b478",
   "metadata": {},
   "outputs": [],
   "source": []
  },
  {
   "cell_type": "code",
   "execution_count": null,
   "id": "ce96ce08",
   "metadata": {},
   "outputs": [],
   "source": []
  },
  {
   "cell_type": "code",
   "execution_count": null,
   "id": "a9f3e2c1",
   "metadata": {},
   "outputs": [],
   "source": []
  },
  {
   "cell_type": "markdown",
   "id": "eabe99b9",
   "metadata": {},
   "source": [
    "# Pezzi che per ora non servono"
   ]
  },
  {
   "cell_type": "code",
   "execution_count": null,
   "id": "f0e664a2",
   "metadata": {},
   "outputs": [],
   "source": [
    "response = historical_pricing.events.Definition(\"VOD.L\").get_data()\n",
    "# Extract in DataFrame format\n",
    "response.data.df"
   ]
  },
  {
   "cell_type": "code",
   "execution_count": null,
   "id": "9d298438",
   "metadata": {},
   "outputs": [],
   "source": [
    "# JSON format (display only 200 characters of headers + data to minimise output)\n",
    "print(json.dumps(response.data.raw['universe'], indent=2),\n",
    "      'Headers:',\n",
    "      json.dumps(response.data.raw['headers'], indent=2)[0:200],\n",
    "      'Data:',\n",
    "      json.dumps(response.data.raw['data'], indent=2)[0:200])"
   ]
  },
  {
   "cell_type": "code",
   "execution_count": null,
   "id": "1f5db70b",
   "metadata": {},
   "outputs": [],
   "source": [
    "response = historical_pricing.events.Definition(\n",
    "    universe = \"AAPL.O\", \n",
    "    start = datetime.timedelta(-1), \n",
    "    end = datetime.timedelta(0),\n",
    "    adjustments = [\n",
    "        historical_pricing.Adjustments.EXCHANGE_CORRECTION,\n",
    "        historical_pricing.Adjustments.MANUAL_CORRECTION\n",
    "    ]).get_data()\n",
    "# Extract in DataFrame format\n",
    "response.data.df"
   ]
  },
  {
   "cell_type": "code",
   "execution_count": null,
   "id": "97add710",
   "metadata": {},
   "outputs": [],
   "source": [
    "response = historical_pricing.summaries.Definition(\n",
    "    universe = \"IBM.N\", \n",
    "    interval = historical_pricing.Intervals.ONE_MINUTE,     # Supported intervals: ONE_MINUTE, FIVE_MINUTES, TEN_MINUTES, THIRTY_MINUTES, ONE_HOUR\n",
    "    count = 500,\n",
    "    sessions = [\n",
    "        historical_pricing.MarketSession.PRE, \n",
    "        historical_pricing.MarketSession.NORMAL, \n",
    "        historical_pricing.MarketSession.POST\n",
    "    ]).get_data()\n",
    "# Extract in DataFrame format\n",
    "response.data.df"
   ]
  },
  {
   "cell_type": "code",
   "execution_count": null,
   "id": "731f605a",
   "metadata": {},
   "outputs": [],
   "source": [
    "response = historical_pricing.summaries.Definition(\"IBM.N\").get_data()\n",
    "# Extract in DataFrame format\n",
    "response.data.df"
   ]
  },
  {
   "cell_type": "code",
   "execution_count": null,
   "id": "3081ec72",
   "metadata": {},
   "outputs": [],
   "source": [
    "response = historical_pricing.summaries.Definition(\n",
    "    universe = \"VOD.L\",\n",
    "    interval = historical_pricing.Intervals.DAILY,          # Supported intervals: DAILY, WEEKLY, MONTHLY, QUARTERLY, YEARLY.\n",
    "    count = 10,\n",
    "    fields = [\"BID\", \"ASK\", \"OPEN_PRC\", \"HIGH_1\", \"LOW_1\", \"TRDPRC_1\", \"NUM_MOVES\", \"TRNOVR_UNS\"]\n",
    ").get_data()\n",
    "# Extract in DataFrame format\n",
    "response.data.df"
   ]
  },
  {
   "cell_type": "code",
   "execution_count": null,
   "id": "ebc735cb",
   "metadata": {},
   "outputs": [],
   "source": [
    "try:\n",
    "    response = historical_pricing.events.Definition(\"BADRIC\").get_data()\n",
    "    print(response.data.df)\n",
    "except rd.errors.RDError as e:\n",
    "    print(\"Error code :\", e.code)\n",
    "    print(\"Error message:\", e.message)"
   ]
  },
  {
   "cell_type": "markdown",
   "id": "436e7e87",
   "metadata": {},
   "source": [
    "# Tentativo di farlo funzionare senza installare nulla"
   ]
  },
  {
   "cell_type": "code",
   "execution_count": null,
   "id": "fcb20e2d",
   "metadata": {},
   "outputs": [],
   "source": [
    "# session = rd.session.desktop.Definition(app_key = APP_KEY).get_session()\n",
    "session = rd.session.platform.Definition(\n",
    "    app_key = APP_KEY, \n",
    "    grant = rd.session.platform.GrantPassword(\n",
    "        username = RDP_LOGIN, \n",
    "        password = RDP_PASSWORD\n",
    "    )\n",
    ").get_session()"
   ]
  },
  {
   "cell_type": "code",
   "execution_count": null,
   "id": "f8e61695",
   "metadata": {},
   "outputs": [],
   "source": [
    "# rd.open_session()\n",
    "# rd.close_session()"
   ]
  },
  {
   "cell_type": "code",
   "execution_count": null,
   "id": "4e2c876b",
   "metadata": {},
   "outputs": [],
   "source": [
    "session.open()"
   ]
  },
  {
   "cell_type": "code",
   "execution_count": null,
   "id": "49f5caa8",
   "metadata": {},
   "outputs": [],
   "source": [
    "session.set_log_level(logging.DEBUG)\n",
    "session.open()\n",
    "# To set logging back to default value\n",
    "session.set_log_level(logging.WARNING)"
   ]
  },
  {
   "cell_type": "code",
   "execution_count": null,
   "id": "4c9d6adc",
   "metadata": {},
   "outputs": [],
   "source": [
    "# Callback to handle session state changes\n",
    "def on_state_cb(state_code, state_msg, session):\n",
    "    print(f\"Session State:{state_code} | {state_msg}\")\n",
    "# Callback to handle session events\n",
    "def on_event_cb(event_code, event_msg, session):\n",
    "    print(f\"Session event:{event_code} | {event_msg}\")\n",
    "\n",
    "# Set your callbacks for handing the session events\n",
    "session.on_event(on_event_cb)\n",
    "session.on_state(on_state_cb)"
   ]
  },
  {
   "cell_type": "code",
   "execution_count": null,
   "id": "88d4e622",
   "metadata": {},
   "outputs": [],
   "source": [
    "session.info"
   ]
  },
  {
   "cell_type": "code",
   "execution_count": null,
   "id": "60444896",
   "metadata": {},
   "outputs": [],
   "source": [
    "session.close()"
   ]
  }
 ],
 "metadata": {
  "kernelspec": {
   "display_name": "Python 3 (ipykernel)",
   "language": "python",
   "name": "python3"
  },
  "language_info": {
   "codemirror_mode": {
    "name": "ipython",
    "version": 3
   },
   "file_extension": ".py",
   "mimetype": "text/x-python",
   "name": "python",
   "nbconvert_exporter": "python",
   "pygments_lexer": "ipython3",
   "version": "3.10.9"
  }
 },
 "nbformat": 4,
 "nbformat_minor": 5
}
